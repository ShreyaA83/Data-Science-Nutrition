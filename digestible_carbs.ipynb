{
 "cells": [
  {
   "cell_type": "code",
   "execution_count": 1,
   "id": "2213c725",
   "metadata": {},
   "outputs": [
    {
     "name": "stdout",
     "output_type": "stream",
     "text": [
      "   Food code   Main food description  Net Digestible Carbs\n",
      "0   11000000             Milk, human              0.046097\n",
      "1   11100000               Milk, NFS             -0.009956\n",
      "2   11111000             Milk, whole             -0.017988\n",
      "3   11112110  Milk, reduced fat (2%)             -0.006845\n",
      "4   11112210      Milk, low fat (1%)              0.004979\n"
     ]
    }
   ],
   "source": [
    "import pandas as pd\n",
    "\n",
    "# Read the original datasets\n",
    "df = pd.read_csv(\"merged_data.csv\")\n",
    "standardized_df = pd.read_csv('standardized_dataset3-Copy1.csv')\n",
    "\n",
    "# Create a new column 'Net Digestible Carbs' and calculate values for each food\n",
    "standardized_df['Net Digestible Carbs'] = (\n",
    "    standardized_df['Carbohydrate'] -\n",
    "    (standardized_df['Fiber, total dietary'] + standardized_df['Sugars, total'] * 0.25)\n",
    ")\n",
    "\n",
    "# Save the updated DataFrame to a new dataset\n",
    "standardized_df.to_csv('standardized_dataset_with_net_carbs.csv', index=False)\n",
    "\n",
    "# Display the first few rows of the DataFrame with the new column\n",
    "print(standardized_df[['Food code', 'Main food description', 'Net Digestible Carbs']].head())\n"
   ]
  }
 ],
 "metadata": {
  "kernelspec": {
   "display_name": "Python 3 (ipykernel)",
   "language": "python",
   "name": "python3"
  },
  "language_info": {
   "codemirror_mode": {
    "name": "ipython",
    "version": 3
   },
   "file_extension": ".py",
   "mimetype": "text/x-python",
   "name": "python",
   "nbconvert_exporter": "python",
   "pygments_lexer": "ipython3",
   "version": "3.11.5"
  }
 },
 "nbformat": 4,
 "nbformat_minor": 5
}
